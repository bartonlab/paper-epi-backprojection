{
 "cells": [
  {
   "cell_type": "markdown",
   "metadata": {},
   "source": [
    "<a id='contents'></a>"
   ]
  },
  {
   "cell_type": "markdown",
   "metadata": {},
   "source": [
    "## Libraries and global variables"
   ]
  },
  {
   "cell_type": "code",
   "execution_count": 1,
   "metadata": {},
   "outputs": [
    {
     "name": "stdout",
     "output_type": "stream",
     "text": [
      "This notebook was prepared using:\n",
      "python version 3.9.7 (default, Sep 16 2021, 08:50:36) \n",
      "[Clang 10.0.0 ]\n",
      "numpy version 1.20.3\n",
      "scipy version 1.7.1\n",
      "pandas version 1.3.4\n",
      "matplotlib version 3.4.3\n"
     ]
    }
   ],
   "source": [
    "# Libraries and packages\n",
    "\n",
    "print('This notebook was prepared using:')\n",
    "\n",
    "from importlib import reload\n",
    "import sys, os\n",
    "from copy import deepcopy\n",
    "print('python version %s' % sys.version)\n",
    "\n",
    "import numpy as np\n",
    "print('numpy version %s' % np.__version__)\n",
    "\n",
    "import scipy as sp\n",
    "import scipy.stats as st\n",
    "print('scipy version %s' % sp.__version__)\n",
    "\n",
    "import pandas as pd\n",
    "print('pandas version %s' % pd.__version__)\n",
    "\n",
    "import matplotlib\n",
    "from matplotlib import cm\n",
    "import matplotlib.pyplot as plt\n",
    "print('matplotlib version %s' % matplotlib.__version__)"
   ]
  },
  {
   "cell_type": "markdown",
   "metadata": {},
   "source": [
    "### EM algorithm and smoothing"
   ]
  },
  {
   "cell_type": "code",
   "execution_count": 2,
   "metadata": {},
   "outputs": [],
   "source": [
    "# EM steps\n",
    "\n",
    "def get_em_lambda(f,   # incubation time distribution, a data frame with columns dt and weight\n",
    "                  Y,   # observations, a data frame with columns times and counts\n",
    "                  lam  # infection rates, a data frame with columns times and rates\n",
    "                  ):\n",
    "    \n",
    "    lam_star = lam.copy(deep=True)\n",
    "    times = lam['times']\n",
    "    times_dt = f['dt']\n",
    "    \n",
    "    for idx in range(len(lam)):\n",
    "        \n",
    "        # time for the current lambda value\n",
    "        t_lam = lam.loc[idx, 'times']\n",
    "        \n",
    "        lam_temp = 0\n",
    "        f_norm   = 0\n",
    "        for dt in times_dt:\n",
    "            if (t_lam+dt) not in Y['times'].values:\n",
    "                continue\n",
    "                \n",
    "#             if len(Y[Y['times']==t_lam+dt])!=1:\n",
    "#                 print('idx %d\\tt_lam %d\\tdt %d' % (idx, t_lam, dt))\n",
    "#                 print('lam_t %.2e\\tf_dt %.2e' % (float(lam[lam['times']==t_lam]['rates']), \n",
    "#                                                  float(f[f['dt']==dt]['weight'])))\n",
    "#                 print('Y at t=t_lam+dt:')\n",
    "#                 print(Y[Y['times']==t_lam+dt])\n",
    "#                 print((t_lam+dt) in Y['times'])\n",
    "            \n",
    "            Y_tdt = Y[Y['times']==t_lam+dt]['counts'].values[0]  # observations at t + dt\n",
    "            lam_t = lam[lam['times']==t_lam]['rates'].values[0]  # rate at t\n",
    "            f_dt  = f[f['dt']==dt]['weight'].values[0]           # incubation prob at dt\n",
    "            \n",
    "            #print(idx, t_lam, dt, Y_tdt, lam_t, f_dt)\n",
    "            \n",
    "            f_norm += f_dt\n",
    "            \n",
    "            # no contribution to lambda* when any of above are zero\n",
    "            num = Y_tdt * lam_t * f_dt\n",
    "            if num==0:\n",
    "                continue\n",
    "            \n",
    "            denom = 0\n",
    "            for t in times:\n",
    "                ddt = t_lam+dt-t\n",
    "                if ddt in f['dt']:\n",
    "                    denom += lam[lam['times']==t]['rates'].values[0] * f[f['dt']==ddt]['weight'].values[0]\n",
    "    \n",
    "            lam_temp += num/denom\n",
    "        \n",
    "        if f_norm>0:\n",
    "            lam_star.loc[idx, 'rates'] = lam_temp/f_norm\n",
    "            \n",
    "        else:\n",
    "            lam_star.loc[idx, 'rates'] = 0\n",
    "        \n",
    "    return lam_star"
   ]
  },
  {
   "cell_type": "code",
   "execution_count": 3,
   "metadata": {},
   "outputs": [],
   "source": [
    "# smoothing\n",
    "\n",
    "def get_smooth_lambda(w,   # smoothing function, a data frame with columns dt and weight\n",
    "                      lam # infection rates, a data frame with columns times and rates\n",
    "                      ):\n",
    "    \n",
    "    lam_smooth = lam.copy(deep=True)\n",
    "    times = lam['times']\n",
    "    times_dt = w['dt']\n",
    "    \n",
    "    for idx in range(len(lam)):\n",
    "    \n",
    "        # time for the current lambda value\n",
    "        t_lam = lam.loc[idx, 'times']\n",
    "        \n",
    "        lam_temp = 0\n",
    "        w_norm   = 0\n",
    "        for dt in times_dt:\n",
    "            if (t_lam+dt) not in lam['times'].values:\n",
    "                continue\n",
    "            \n",
    "            lam_tdt = lam[lam['times']==t_lam+dt]['rates'].values[0]  # rate at t + dt\n",
    "            w_dt    = w[w['dt']==dt]['weight'].values[0]              # smoothing weight at dt\n",
    "            \n",
    "            lam_temp += lam_tdt * w_dt\n",
    "            w_norm   += w_dt\n",
    "            \n",
    "        if w_norm>0:\n",
    "            lam_smooth.loc[idx, 'rates'] = lam_temp/w_norm\n",
    "        \n",
    "        else: \n",
    "            lam_smooth.loc[idx, 'rates'] = 0\n",
    "        \n",
    "    return lam_smooth"
   ]
  },
  {
   "cell_type": "markdown",
   "metadata": {},
   "source": [
    "### Reading in data and quality checks (no array overruns, etc.)"
   ]
  },
  {
   "cell_type": "code",
   "execution_count": 4,
   "metadata": {},
   "outputs": [],
   "source": [
    "incubation_file = 'example_incubation_time.csv'\n",
    "smoothing_file = 'example_smoothing_weights.csv'\n",
    "observation_file = 'example_timeseries.csv'\n",
    "output_file = observation_file.split('.')[0] + '_rates.csv'\n",
    "\n",
    "df_inc = pd.read_csv(incubation_file, memory_map=True)\n",
    "df_smooth = pd.read_csv(smoothing_file, memory_map=True)\n",
    "df_obs = pd.read_csv(observation_file, memory_map=True)\n",
    "\n",
    "# expand indices such that observations (and lambda extend +/- dt around current boundaries)\n",
    "dt_min = np.min([np.min(df_inc['dt']), 0]) + np.min([np.min(df_smooth['dt']), 0])\n",
    "dt_max = np.max([np.max(df_inc['dt']), 0]) + np.max([np.max(df_smooth['dt']), 0])\n",
    "\n",
    "t_min = np.min(df_obs['times']) + dt_min - 1\n",
    "t_max = np.max(df_obs['times']) + dt_max + 1\n",
    "\n",
    "for t in range(t_min, t_max+1):\n",
    "    if t not in df_obs['times'].values:\n",
    "        row = dict(times=t, counts=0)\n",
    "        df_obs = pd.concat([df_obs, pd.DataFrame([row])], ignore_index=True)\n",
    "        \n",
    "\n",
    "# copy lambda data frame, uniform initialization\n",
    "df_lam = df_obs.copy(deep=True)\n",
    "df_lam['rates'] = 1/float(len(df_lam))\n",
    "\n",
    "# lam_uniform = 1/float((t_max - dt_max) - (t_min - dt_min)) # need smarter init b/w obs values?\n",
    "\n",
    "\n",
    "# sanity checking\n",
    "if np.min(df_smooth['weight'])<0:\n",
    "    print('Smoothing function contains negative values!')\n",
    "\n",
    "if np.min(df_inc['weight'])<0:\n",
    "    print('Incubation time distribution contains negative values!')\n",
    "    \n",
    "if np.min(df_obs['counts'])<0:\n",
    "    print('Counts file contains negative values!')\n",
    "    \n",
    "times = df_lam['times'].values\n",
    "for t in times:\n",
    "    n_rows = len(df_lam[df_lam['times']==t])\n",
    "    if n_rows!=1:\n",
    "        print('Got %d observation rows with time=%d!' % (n_rows, t))"
   ]
  },
  {
   "cell_type": "markdown",
   "metadata": {},
   "source": [
    "### Run until convergence"
   ]
  },
  {
   "cell_type": "code",
   "execution_count": 5,
   "metadata": {
    "scrolled": false
   },
   "outputs": [
    {
     "name": "stdout",
     "output_type": "stream",
     "text": [
      "iter\tepsilon\n",
      "1\t1.22e+01\n",
      "2\t4.38e-02\n",
      "3\t1.02e-02\n",
      "4\t2.85e-03\n",
      "5\t8.17e-04\n",
      "6\t2.35e-04\n",
      "7\t6.75e-05\n"
     ]
    }
   ],
   "source": [
    "# convergence conditions\n",
    "max_iter = 250\n",
    "min_dlam = 1e-4\n",
    "\n",
    "# initial conditions\n",
    "df_lam_init = df_lam.copy(deep=True)\n",
    "df_lam_last = df_lam.copy(deep=True)\n",
    "curr_iter   = 0\n",
    "\n",
    "print('iter\\tepsilon')\n",
    "\n",
    "while True:\n",
    "    curr_iter += 1\n",
    "    \n",
    "    df_lam = get_em_lambda(f=df_inc, Y=df_obs, lam=df_lam_last)\n",
    "    df_lam = get_smooth_lambda(w=df_smooth, lam=df_lam)\n",
    "    \n",
    "    curr_lam = np.array(df_lam['rates'])\n",
    "    last_lam = np.array(df_lam_last['rates'])\n",
    "    \n",
    "    eps = np.sum(np.absolute(curr_lam - last_lam)) / np.sum(last_lam)\n",
    "    \n",
    "    print('%d\\t%.2e' % (curr_iter, eps))\n",
    "    \n",
    "    df_lam_last = df_lam\n",
    "    \n",
    "    if (curr_iter>=max_iter) or (eps<=min_dlam):\n",
    "        break\n",
    "        \n",
    "df_lam_last.sort_values(by=['times'], inplace=True)\n",
    "df_lam_last.to_csv(output_file)"
   ]
  },
  {
   "cell_type": "markdown",
   "metadata": {},
   "source": [
    "### Visualize the result"
   ]
  },
  {
   "cell_type": "code",
   "execution_count": 6,
   "metadata": {},
   "outputs": [
    {
     "data": {
      "image/png": "[encoded data removed]",
      "text/plain": [
       "<Figure size 432x288 with 1 Axes>"
      ]
     },
     "metadata": {
      "needs_background": "light"
     },
     "output_type": "display_data"
    }
   ],
   "source": [
    "import matplotlib.pyplot as plt\n",
    "\n",
    "dt = df_inc['dt'].values\n",
    "w  = df_inc['weight'].values\n",
    "\n",
    "xs, ys = zip(*sorted(zip(dt, w)))\n",
    "plt.stem(xs, ys)\n",
    "plt.xlabel(r'Time from observation, $\\Delta t$')\n",
    "plt.ylabel('Weight')\n",
    "plt.title('Incubation time distribution')\n",
    "plt.show()"
   ]
  },
  {
   "cell_type": "code",
   "execution_count": 7,
   "metadata": {},
   "outputs": [
    {
     "data": {
      "image/png": "[encoded data removed]",
      "text/plain": [
       "<Figure size 432x288 with 1 Axes>"
      ]
     },
     "metadata": {
      "needs_background": "light"
     },
     "output_type": "display_data"
    }
   ],
   "source": [
    "import matplotlib.pyplot as plt\n",
    "\n",
    "dt = df_smooth['dt'].values\n",
    "w  = df_smooth['weight'].values\n",
    "\n",
    "xs, ys = zip(*sorted(zip(dt, w)))\n",
    "plt.stem(xs, ys)\n",
    "plt.xlabel(r'Time from observation, $\\Delta t$')\n",
    "plt.ylabel('Weight')\n",
    "plt.title('Smoothing function')\n",
    "plt.show()"
   ]
  },
  {
   "cell_type": "code",
   "execution_count": 8,
   "metadata": {},
   "outputs": [
    {
     "data": {
      "image/png": "[encoded data removed]",
      "text/plain": [
       "<Figure size 432x288 with 1 Axes>"
      ]
     },
     "metadata": {
      "needs_background": "light"
     },
     "output_type": "display_data"
    }
   ],
   "source": [
    "import matplotlib.pyplot as plt\n",
    "\n",
    "t   = df_lam_last['times'].values\n",
    "obs = df_lam_last['counts'].values\n",
    "lam = df_lam_last['rates'].values \n",
    "\n",
    "# for i in range(len(t)):\n",
    "#     print('%d\\t%.2f' % (t[i], lam[i]))\n",
    "\n",
    "xs, ys = zip(*sorted(zip(t, obs)))\n",
    "plt.stem(xs, ys, label='observations')\n",
    "\n",
    "xs, ys = zip(*sorted(zip(t, lam)))\n",
    "plt.plot(xs, ys, label='rates')\n",
    "\n",
    "plt.xlabel(r'Time')\n",
    "plt.ylabel('Counts/rates')\n",
    "plt.title('Counts and rates versus time')\n",
    "plt.show()"
   ]
  }
 ],
 "metadata": {
  "kernelspec": {
   "display_name": "Python 3 (ipykernel)",
   "language": "python",
   "name": "python3"
  },
  "language_info": {
   "codemirror_mode": {
    "name": "ipython",
    "version": 3
   },
   "file_extension": ".py",
   "mimetype": "text/x-python",
   "name": "python",
   "nbconvert_exporter": "python",
   "pygments_lexer": "ipython3",
   "version": "3.9.7"
  }
 },
 "nbformat": 4,
 "nbformat_minor": 4
}
